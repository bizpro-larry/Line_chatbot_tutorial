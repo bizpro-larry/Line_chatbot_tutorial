{
 "cells": [
  {
   "cell_type": "code",
   "execution_count": 103,
   "metadata": {
    "collapsed": true
   },
   "outputs": [],
   "source": [
    "from linebot import LineBotApi\n",
    "from linebot.exceptions import LineBotApiError"
   ]
  },
  {
   "cell_type": "markdown",
   "metadata": {},
   "source": [
    "# Doc : https://github.com/line/line-bot-sdk-python/blob/master/linebot/models/send_messages.py "
   ]
  },
  {
   "cell_type": "code",
   "execution_count": 104,
   "metadata": {
    "collapsed": true
   },
   "outputs": [],
   "source": [
    "CHANNEL_ACCESS_TOKEN = \"YOUR CHANNEL TOKEN\""
   ]
  },
  {
   "cell_type": "code",
   "execution_count": 105,
   "metadata": {
    "collapsed": true
   },
   "outputs": [],
   "source": [
    "# user ID - Get by reply message object.\n",
    "to = \"YOUR USER ID\""
   ]
  },
  {
   "cell_type": "code",
   "execution_count": 108,
   "metadata": {
    "collapsed": true
   },
   "outputs": [],
   "source": [
    "from linebot.models import TextSendMessage"
   ]
  },
  {
   "cell_type": "markdown",
   "metadata": {},
   "source": [
    "# TextSendMessage"
   ]
  },
  {
   "cell_type": "code",
   "execution_count": 110,
   "metadata": {
    "collapsed": false
   },
   "outputs": [],
   "source": [
    "line_bot_api = LineBotApi(CHANNEL_ACCESS_TOKEN)\n",
    "\n",
    "try:\n",
    "    line_bot_api.push_message(to, TextSendMessage(text='台科大電腦研習社'))\n",
    "except LineBotApiError as e:\n",
    "    # error handle\n",
    "    raise e"
   ]
  },
  {
   "cell_type": "markdown",
   "metadata": {},
   "source": [
    "# Output"
   ]
  },
  {
   "cell_type": "markdown",
   "metadata": {},
   "source": [
    "![](img/SendText_Output.png)"
   ]
  },
  {
   "cell_type": "code",
   "execution_count": 111,
   "metadata": {
    "collapsed": true
   },
   "outputs": [],
   "source": [
    "from linebot.models import ImageSendMessage, VideoSendMessage, LocationSendMessage, StickerSendMessage"
   ]
  },
  {
   "cell_type": "markdown",
   "metadata": {},
   "source": [
    "# ImageSendMessage"
   ]
  },
  {
   "cell_type": "markdown",
   "metadata": {},
   "source": [
    "物件中的輸入 original_content_url 以及 preview_image_url都要寫才不會報錯。<br>\n",
    "輸入的網址要是一個圖片，應該說只能是一個圖片，不然不會報錯但是傳過去是灰色不能用的圖<br>\n",
    "他圖片的功能都有點問題，我都要丟到imgur圖床才能鏈結。。。<br>\n",
    "直接丟進github 用raw也不能讀<br>"
   ]
  },
  {
   "cell_type": "code",
   "execution_count": 112,
   "metadata": {
    "collapsed": false
   },
   "outputs": [],
   "source": [
    "line_bot_api = LineBotApi(CHANNEL_ACCESS_TOKEN)\n",
    "image_url = \"https://i.imgur.com/eTldj2E.png?1\"\n",
    "try:\n",
    "    line_bot_api.push_message(to, ImageSendMessage(original_content_url=image_url, preview_image_url=image_url))\n",
    "except LineBotApiError as e:\n",
    "    # error handle\n",
    "    raise e"
   ]
  },
  {
   "cell_type": "markdown",
   "metadata": {},
   "source": [
    "# Output"
   ]
  },
  {
   "cell_type": "markdown",
   "metadata": {},
   "source": [
    "![](img/SendImage_Output.png)"
   ]
  },
  {
   "cell_type": "code",
   "execution_count": 113,
   "metadata": {
    "collapsed": true
   },
   "outputs": [],
   "source": [
    "from linebot.models import LocationSendMessage"
   ]
  },
  {
   "cell_type": "markdown",
   "metadata": {},
   "source": [
    "# LocationSendMessage"
   ]
  },
  {
   "cell_type": "code",
   "execution_count": 114,
   "metadata": {
    "collapsed": true
   },
   "outputs": [],
   "source": [
    "line_bot_api = LineBotApi(CHANNEL_ACCESS_TOKEN)\n",
    "title = \"國立臺灣科技大學\"\n",
    "address = \"106台北市大安區基隆路四段43號\"\n",
    "latitude = 25.0136906\n",
    "longitude = 121.5406792\n",
    "try:\n",
    "    line_bot_api.push_message(to, LocationSendMessage(title=title,\n",
    "                                                      address=address,\n",
    "                                                      latitude=latitude,\n",
    "                                                      longitude=longitude))\n",
    "except LineBotApiError as e:\n",
    "    # error handle\n",
    "    raise e"
   ]
  },
  {
   "cell_type": "markdown",
   "metadata": {},
   "source": [
    "# Output"
   ]
  },
  {
   "cell_type": "markdown",
   "metadata": {},
   "source": [
    "![](img/SendLocation.png)"
   ]
  },
  {
   "cell_type": "code",
   "execution_count": 115,
   "metadata": {
    "collapsed": true
   },
   "outputs": [],
   "source": [
    "from linebot.models import StickerSendMessage"
   ]
  },
  {
   "cell_type": "markdown",
   "metadata": {},
   "source": [
    "# StickerSendMessage"
   ]
  },
  {
   "cell_type": "markdown",
   "metadata": {},
   "source": [
    "照下面這段話的意思是說，只能用預設的！！！<br>\n",
    "Message object which contains the sticker data sent from the source.<br>\n",
    "For a list of basic LINE stickers and sticker IDs, see sticker list.<br>\n",
    "\n",
    "stick list:https://developers.line.me/media/messaging-api/messages/sticker_list.pdf"
   ]
  },
  {
   "cell_type": "code",
   "execution_count": 116,
   "metadata": {
    "collapsed": false
   },
   "outputs": [],
   "source": [
    "line_bot_api = LineBotApi(CHANNEL_ACCESS_TOKEN)\n",
    "package_id = \"1\"\n",
    "sticker_id = \"1\"\n",
    "# package_id = \"1181660\"\n",
    "# sticker_id = \"7389429\"\n",
    "try:\n",
    "    line_bot_api.push_message(to, StickerSendMessage(package_id=package_id, sticker_id=sticker_id))\n",
    "except LineBotApiError as e:\n",
    "    # error handle\n",
    "    raise e\n"
   ]
  },
  {
   "cell_type": "markdown",
   "metadata": {},
   "source": [
    "# Output"
   ]
  },
  {
   "cell_type": "markdown",
   "metadata": {},
   "source": [
    "![](img/SendSticker.png)"
   ]
  },
  {
   "cell_type": "markdown",
   "metadata": {},
   "source": [
    "# ImagemapSendMessage"
   ]
  },
  {
   "cell_type": "code",
   "execution_count": 137,
   "metadata": {
    "collapsed": true
   },
   "outputs": [],
   "source": [
    "from linebot.models import ImagemapSendMessage, BaseSize, URIImagemapAction, MessageImagemapAction, ImagemapArea"
   ]
  },
  {
   "cell_type": "markdown",
   "metadata": {},
   "source": [
    "這邊解説一下\n",
    "輸入一張圖片的網址https，\n",
    "他會顯示一張圖片，\n",
    "但是可以對這張圖片的點選範圍做一些操作\n",
    "例如對某區塊點擊會發生什麼事\n"
   ]
  },
  {
   "cell_type": "markdown",
   "metadata": {},
   "source": [
    "舉例：輸入一張圖片（如下圖）by colors  https://coolors.co/ffb8d1-e4b4c2-e7cee3-e0e1e9-ddfdfe"
   ]
  },
  {
   "cell_type": "markdown",
   "metadata": {},
   "source": [
    "Imagemap 讓我們可以對圖片的區塊（給定一個範圍）做操作，<br>\n",
    "例如我們要使用<br>\n",
    "最左邊的顏色<br>\n",
    "點擊後輸出色票<br>\n",
    "<br>\n",
    "最右邊的顏色<br>\n",
    "點擊後轉至網址<br>\n",
    "他圖片的功能都有點問題，我都要丟到imgur圖床才能鏈結。。。<br>\n",
    "直接丟進github 用raw也不能讀<br>\n",
    "而且他不會自動縮放，會裁掉"
   ]
  },
  {
   "cell_type": "markdown",
   "metadata": {},
   "source": [
    "![](img/colors.png)"
   ]
  },
  {
   "cell_type": "markdown",
   "metadata": {},
   "source": [
    "# Output"
   ]
  },
  {
   "cell_type": "markdown",
   "metadata": {
    "collapsed": true
   },
   "source": [
    "![](img/SendImagemap_Output_revise.png)"
   ]
  },
  {
   "cell_type": "code",
   "execution_count": 171,
   "metadata": {
    "collapsed": false
   },
   "outputs": [],
   "source": [
    "line_bot_api = LineBotApi(CHANNEL_ACCESS_TOKEN)\n",
    "# image_url = \"https://raw.githubusercontent.com/xiaosean/Line_tutorial/master/img/colors.png\"\n",
    "image_url = \"https://i.imgur.com/mB9yDO0.png\"\n",
    "\n",
    "text = \"#FFB8D1\"\n",
    "click_link_1 = \"https://youtu.be/mBB_67OxXIo?list=RDmBB_67OxXIo\"\n",
    "\n",
    "\n",
    "try:\n",
    "    line_bot_api.push_message(to, ImagemapSendMessage(base_url=image_url,\n",
    "                                                      alt_text=\"ImageMap Example\",\n",
    "                                                      base_size=BaseSize(height=1040, width=1040),\n",
    "                                                      actions=[\n",
    "                                                            MessageImagemapAction(\n",
    "                                                                text=text,\n",
    "                                                                area=ImagemapArea(\n",
    "                                                                    x=0, y=0, width=1040/5, height=1040\n",
    "                                                                )\n",
    "                                                            ),\n",
    "                                                            URIImagemapAction(\n",
    "                                                                link_uri=click_link_1,\n",
    "                                                                area=ImagemapArea(\n",
    "                                                                    x=int(1040*0.8), y=0, width=int(1040/5), height=1040\n",
    "                                                                )\n",
    "                                                            )\n",
    "                                                        ]))\n",
    "except LineBotApiError as e:\n",
    "    # error handle\n",
    "    raise e\n"
   ]
  },
  {
   "cell_type": "code",
   "execution_count": null,
   "metadata": {
    "collapsed": true
   },
   "outputs": [],
   "source": []
  },
  {
   "cell_type": "markdown",
   "metadata": {},
   "source": [
    "# TemplateSendMessage - 只可在智慧手機上顯示"
   ]
  },
  {
   "cell_type": "markdown",
   "metadata": {},
   "source": [
    "doc:https://github.com/line/line-bot-sdk-python/blob/master/linebot/models/template.py"
   ]
  },
  {
   "cell_type": "markdown",
   "metadata": {},
   "source": [
    "這部分我建議看這個人所寫的 - 他的圖片很用心，真好看！！\n",
    "https://ithelp.ithome.com.tw/articles/10195640?sc=iThomeR"
   ]
  },
  {
   "cell_type": "code",
   "execution_count": 117,
   "metadata": {
    "collapsed": true
   },
   "outputs": [],
   "source": [
    "# from linebot.models import TemplateSendMessage, Template, ButtonsTemplate, ConfirmTemplate, StickerSendMessage"
   ]
  },
  {
   "cell_type": "code",
   "execution_count": 118,
   "metadata": {
    "collapsed": true
   },
   "outputs": [],
   "source": [
    "from linebot.models import TemplateSendMessage, ButtonsTemplate, PostbackTemplateAction, MessageTemplateAction, URITemplateAction"
   ]
  },
  {
   "cell_type": "code",
   "execution_count": 121,
   "metadata": {
    "collapsed": false
   },
   "outputs": [],
   "source": [
    "button_template_message =ButtonsTemplate(\n",
    "                            thumbnail_image_url=\"https://i.imgur.com/eTldj2E.png?1\",\n",
    "                            title='Menu', \n",
    "                            text='Please select',\n",
    "                            ratio=\"1.51:1\",\n",
    "                            image_size=\"cover\",\n",
    "                            actions=[\n",
    "#                                 點擊選項後，文字不會顯示在聊天室中，但是會回傳data中的資料，可透過 Postback event 處理。\n",
    "\n",
    "                                PostbackTemplateAction(\n",
    "                                    label='postback還會回傳data參數', text='postback text',\n",
    "                                    data='action=buy&itemid=1'\n",
    "                                ),\n",
    "                                MessageTemplateAction(\n",
    "                                    label='message會回傳text文字', text='message text'\n",
    "                                ),\n",
    "                                URITemplateAction(\n",
    "                                    label='uri可回傳網址', uri='http://www.xiaosean.website/'\n",
    "                                )\n",
    "                            ]\n",
    "                        )\n",
    "                        "
   ]
  },
  {
   "cell_type": "code",
   "execution_count": 122,
   "metadata": {
    "collapsed": true
   },
   "outputs": [],
   "source": [
    "line_bot_api = LineBotApi(CHANNEL_ACCESS_TOKEN)\n",
    "\n",
    "try:\n",
    "#     alt_text 因template只能夠在手機上顯示，因此在PC版會使用alt_Text替代\n",
    "    line_bot_api.push_message(to, TemplateSendMessage(alt_text=\"Template Example\", template=button_template_message))\n",
    "except LineBotApiError as e:\n",
    "    # error handle\n",
    "    raise e\n"
   ]
  },
  {
   "cell_type": "markdown",
   "metadata": {
    "collapsed": true
   },
   "source": [
    "# Output"
   ]
  },
  {
   "cell_type": "markdown",
   "metadata": {},
   "source": [
    "![](img/SendTemplate_Output_revise.png)"
   ]
  },
  {
   "cell_type": "markdown",
   "metadata": {},
   "source": [
    "# FileMessage - 沒實作"
   ]
  },
  {
   "cell_type": "markdown",
   "metadata": {},
   "source": [
    "DOC https://github.com/line/line-bot-sdk-python/blob/master/linebot/models/messages.py"
   ]
  },
  {
   "cell_type": "code",
   "execution_count": null,
   "metadata": {
    "collapsed": true
   },
   "outputs": [],
   "source": []
  },
  {
   "cell_type": "code",
   "execution_count": 75,
   "metadata": {
    "collapsed": true
   },
   "outputs": [],
   "source": [
    "from linebot.models import VideoSendMessage"
   ]
  },
  {
   "cell_type": "markdown",
   "metadata": {},
   "source": [
    "# VideoSendMessage - 我沒試成功 Failed"
   ]
  },
  {
   "cell_type": "markdown",
   "metadata": {},
   "source": [
    "文件中的input有說\"影片時長要 < 1miuntes\" <br>\n",
    "<br>\n",
    "我猜拉 只要找到網址後綴是.mp4應該就可以<br>\n",
    "只是我找不到這種影片<br>"
   ]
  },
  {
   "cell_type": "code",
   "execution_count": 52,
   "metadata": {
    "collapsed": true
   },
   "outputs": [],
   "source": [
    "line_bot_api = LineBotApi(CHANNEL_ACCESS_TOKEN)\n",
    "viedo_url = \"\"\n",
    "image_url = \"\"\n",
    "try:\n",
    "    line_bot_api.push_message(to, VideoSendMessage(original_content_url=viedo_url, preview_image_url=image_url))\n",
    "except LineBotApiError as e:\n",
    "    # error handle\n",
    "    raise e"
   ]
  },
  {
   "cell_type": "code",
   "execution_count": null,
   "metadata": {
    "collapsed": true
   },
   "outputs": [],
   "source": []
  },
  {
   "cell_type": "code",
   "execution_count": null,
   "metadata": {
    "collapsed": true
   },
   "outputs": [],
   "source": []
  }
 ],
 "metadata": {
  "kernelspec": {
   "display_name": "Python 3",
   "language": "python",
   "name": "python3"
  },
  "language_info": {
   "codemirror_mode": {
    "name": "ipython",
    "version": 3
   },
   "file_extension": ".py",
   "mimetype": "text/x-python",
   "name": "python",
   "nbconvert_exporter": "python",
   "pygments_lexer": "ipython3",
   "version": "3.6.0"
  }
 },
 "nbformat": 4,
 "nbformat_minor": 2
}
